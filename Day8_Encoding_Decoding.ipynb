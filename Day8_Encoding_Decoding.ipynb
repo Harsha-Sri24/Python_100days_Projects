{
  "nbformat": 4,
  "nbformat_minor": 0,
  "metadata": {
    "colab": {
      "provenance": []
    },
    "kernelspec": {
      "name": "python3",
      "display_name": "Python 3"
    },
    "language_info": {
      "name": "python"
    }
  },
  "cells": [
    {
      "cell_type": "code",
      "execution_count": 19,
      "metadata": {
        "id": "j4jUjo9BkQ4y",
        "colab": {
          "base_uri": "https://localhost:8080/"
        },
        "outputId": "6c799484-9037-4901-872a-992719a27805"
      },
      "outputs": [
        {
          "output_type": "stream",
          "name": "stdout",
          "text": [
            "Welcome to Encoding and decoding\n",
            "Type 'encode' to encrpt, type 'decode' to decryptencode\n",
            "Type your messageHi Harsha\n",
            "Enter the shift number5\n",
            "the encoded message is Mn Mfwxmf\n",
            "Type 'yes' to continue 'no' to quityes\n",
            "Type 'encode' to encrpt, type 'decode' to decryptdecode\n",
            "Type your messageMn Mfwxmf\n",
            "the decoded message is Hi Harsha\n",
            "Type 'yes' to continue 'no' to quity\n",
            "invalid input\n"
          ]
        }
      ],
      "source": [
        "print(\"Welcome to Encoding and decoding\")\n",
        "letters = ['a', 'b', 'c', 'd', 'e', 'f', 'g', 'h', 'i', 'j', 'k', 'l', 'm', 'n', 'o', 'p', 'q', 'r', 's', 't', 'u', 'v', 'w', 'x', 'y', 'z', 'A', 'B', 'C', 'D', 'E', 'F', 'G', 'H', 'I', 'J', 'K', 'L', 'M', 'N', 'O', 'P', 'Q', 'R', 'S', 'T', 'U', 'V', 'W', 'X', 'Y', 'Z']\n",
        "choice=input(\"Type 'encode' to encrpt, type 'decode' to decrypt\").lower()\n",
        "message=input(\"Type your message\")\n",
        "shift=int(input(\"Enter the shift number\"))\n",
        "def encode(message,shift):\n",
        "  result=\"\"\n",
        "  for i in message:\n",
        "    if i==\" \":\n",
        "      result+=\" \"\n",
        "    else:\n",
        "      count=letters.index(i)\n",
        "      result+=letters[count+shift]\n",
        "  print(f\"the encoded message is {result}\")\n",
        "def decode(message,shift):\n",
        "  result=\"\"\n",
        "  for i in message:\n",
        "    if i==\" \":\n",
        "      result+=\" \"\n",
        "    else:\n",
        "      count=letters.index(i)\n",
        "      result+=letters[count-shift]\n",
        "  print(f\"the decoded message is {result}\")\n",
        "while choice!='bye':\n",
        "  if choice=='encode':\n",
        "    encode(message,shift)\n",
        "  elif choice=='decode':\n",
        "    decode(message,shift)\n",
        "  cont=input(\"Type 'yes' to continue 'no' to quit\").lower()\n",
        "  if cont=='yes':\n",
        "    choice=input(\"Type 'encode' to encrpt, type 'decode' to decrypt\").lower()\n",
        "    message=input(\"Type your message\")\n",
        "  elif cont=='no':\n",
        "    print(\"Good bye\")\n",
        "    choice='bye'\n",
        "  else:\n",
        "    print(\"invalid input\")\n",
        "    choice='bye'\n",
        "\n",
        "\n",
        "\n",
        "\n"
      ]
    }
  ]
}