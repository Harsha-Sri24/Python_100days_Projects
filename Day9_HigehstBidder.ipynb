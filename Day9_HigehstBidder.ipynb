{
  "nbformat": 4,
  "nbformat_minor": 0,
  "metadata": {
    "colab": {
      "provenance": []
    },
    "kernelspec": {
      "name": "python3",
      "display_name": "Python 3"
    },
    "language_info": {
      "name": "python"
    }
  },
  "cells": [
    {
      "cell_type": "code",
      "execution_count": 26,
      "metadata": {
        "colab": {
          "base_uri": "https://localhost:8080/"
        },
        "id": "lAnWcCcvq1Tp",
        "outputId": "d7997e2f-29d1-44a3-9632-9447d989779c"
      },
      "outputs": [
        {
          "output_type": "stream",
          "name": "stdout",
          "text": [
            "\n",
            "What is your name? Harsha\n",
            "Enter the amount that you want to bid?? $$45\n",
            "Are there any other bidders? Type 'yes' or 'no': yes\n",
            "\n",
            "\n",
            "\n",
            "\n",
            "\n",
            "\n",
            "\n",
            "\n",
            "\n",
            "\n",
            "\n",
            "\n",
            "\n",
            "\n",
            "\n",
            "\n",
            "\n",
            "\n",
            "\n",
            "\n",
            "\n",
            "What is your name? Harsha\n",
            "❌ Name already in the bid. Enter another name.\n",
            "\n",
            "What is your name? Sri\n",
            "Enter the amount that you want to bid?? $$67\n",
            "Are there any other bidders? Type 'yes' or 'no': no\n",
            "\n",
            "🏆 The highest bidder is Sri with an amount of $67.\n"
          ]
        }
      ],
      "source": [
        "bid = {}\n",
        "bidding = True\n",
        "\n",
        "def highest(bid):\n",
        "    highest_bid = 0\n",
        "    highest_bidder = \"\"\n",
        "\n",
        "    for bidder, amount in bid.items():\n",
        "        if amount > highest_bid:\n",
        "            highest_bid = amount  # Update the highest bid\n",
        "            highest_bidder = bidder  # Store the name of the highest bidder\n",
        "\n",
        "    print(f\"\\n🏆 The highest bidder is {highest_bidder} with an amount of ${highest_bid}.\")\n",
        "\n",
        "while bidding:\n",
        "    name = input(\"\\nWhat is your name? \").strip()\n",
        "\n",
        "    if name in bid:\n",
        "        print(\"❌ Name already in the bid. Enter another name.\")\n",
        "        continue\n",
        "    amount=int(input(\"Enter the amount that you want to bid?? $$\"))\n",
        "    bid[name] = amount\n",
        "\n",
        "    cont = input(\"Are there any other bidders? Type 'yes' or 'no': \").strip().lower()\n",
        "    if cont == 'no':\n",
        "        highest(bid)\n",
        "        bidding = False\n",
        "    else:\n",
        "      for i in range(10):\n",
        "        print(\"\\n\")"
      ]
    }
  ]
}