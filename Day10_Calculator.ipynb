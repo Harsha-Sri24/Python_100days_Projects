{
  "nbformat": 4,
  "nbformat_minor": 0,
  "metadata": {
    "colab": {
      "provenance": []
    },
    "kernelspec": {
      "name": "python3",
      "display_name": "Python 3"
    },
    "language_info": {
      "name": "python"
    }
  },
  "cells": [
    {
      "cell_type": "code",
      "execution_count": 4,
      "metadata": {
        "colab": {
          "base_uri": "https://localhost:8080/"
        },
        "id": "RKwFpjXnq8UN",
        "outputId": "72f64aab-5855-477f-a8f7-e8772720af08"
      },
      "outputs": [
        {
          "output_type": "stream",
          "name": "stdout",
          "text": [
            " _____________________\n",
            "|  _________________  |\n",
            "| | Pythonista   0. | |  .----------------.  .----------------.  .----------------.  .----------------. \n",
            "| |_________________| | | .--------------. || .--------------. || .--------------. || .--------------. |\n",
            "|  ___ ___ ___   ___  | | |     ______   | || |      __      | || |   _____      | || |     ______   | |\n",
            "| | 7 | 8 | 9 | | + | | | |   .' ___  |  | || |     /  \\     | || |  |_   _|     | || |   .' ___  |  | |\n",
            "| |___|___|___| |___| | | |  / .'   \\_|  | || |    / /\\ \\    | || |    | |       | || |  / .'   \\_|  | |\n",
            "| | 4 | 5 | 6 | | - | | | |  | |         | || |   / ____ \\   | || |    | |   _   | || |  | |         | |\n",
            "| |___|___|___| |___| | | |  \\ '.___.'\\  | || | _/ /    \\ \\_ | || |   _| |__/ |  | || |  \\ '.___.'\\  | |\n",
            "| | 1 | 2 | 3 | | x | | | |   '._____.'  | || ||____|  |____|| || |  |________|  | || |   '._____.'  | |\n",
            "| |___|___|___| |___| | | |              | || |              | || |              | || |              | |\n",
            "| | . | 0 | = | | / | | | '--------------' || '--------------' || '--------------' || '--------------' |\n",
            "| |___|___|___| |___| |  '----------------'  '----------------'  '----------------'  '----------------' \n",
            "|_____________________|\n",
            "What is you first number?4\n",
            "+ \n",
            " - \n",
            " *\n",
            " / \n",
            " Pick the operation+\n",
            "What is the second number?4\n",
            "4+ 4=8\n",
            "Type y to continue n to start new operation or q to quity\n",
            "+ \n",
            " - \n",
            " *\n",
            " / \n",
            " Pick the operation+\n",
            "What is the second number?6\n",
            "8+ 6=14\n",
            "Type y to continue n to start new operation or q to quitn\n",
            "What is you first number?7\n",
            "+ \n",
            " - \n",
            " *\n",
            " / \n",
            " Pick the operation-\n",
            "What is the second number?6\n",
            "7 - 6=1\n",
            "Type y to continue n to start new operation or q to quitq\n",
            "Goodbye\n"
          ]
        }
      ],
      "source": [
        "print(\"\"\" _____________________\n",
        "|  _________________  |\n",
        "| | Pythonista   0. | |  .----------------.  .----------------.  .----------------.  .----------------.\n",
        "| |_________________| | | .--------------. || .--------------. || .--------------. || .--------------. |\n",
        "|  ___ ___ ___   ___  | | |     ______   | || |      __      | || |   _____      | || |     ______   | |\n",
        "| | 7 | 8 | 9 | | + | | | |   .' ___  |  | || |     /  \\     | || |  |_   _|     | || |   .' ___  |  | |\n",
        "| |___|___|___| |___| | | |  / .'   \\_|  | || |    / /\\ \\    | || |    | |       | || |  / .'   \\_|  | |\n",
        "| | 4 | 5 | 6 | | - | | | |  | |         | || |   / ____ \\   | || |    | |   _   | || |  | |         | |\n",
        "| |___|___|___| |___| | | |  \\ '.___.'\\  | || | _/ /    \\ \\_ | || |   _| |__/ |  | || |  \\ '.___.'\\  | |\n",
        "| | 1 | 2 | 3 | | x | | | |   '._____.'  | || ||____|  |____|| || |  |________|  | || |   '._____.'  | |\n",
        "| |___|___|___| |___| | | |              | || |              | || |              | || |              | |\n",
        "| | . | 0 | = | | / | | | '--------------' || '--------------' || '--------------' || '--------------' |\n",
        "| |___|___|___| |___| |  '----------------'  '----------------'  '----------------'  '----------------'\n",
        "|_____________________|\"\"\")\n",
        "\n",
        "\n",
        "num1=int(input(\"What is you first number?\"))\n",
        "op=input(\"+ \\n - \\n *\\n / \\n Pick the operation\")\n",
        "num2=int(input(\"What is the second number?\"))\n",
        "\n",
        "cont=True\n",
        "while cont==True:\n",
        "  if op=='+':\n",
        "    result=num1+num2\n",
        "    print(f\"{num1}+ {num2}={result}\")\n",
        "  elif op=='-':\n",
        "    result=num1-num2\n",
        "    print(f\"{num1} - {num2}={result}\")\n",
        "  elif op=='*':\n",
        "    result=num1*num2\n",
        "    print(f\"{num1} * {num2}={result}\")\n",
        "  elif op=='/':\n",
        "    result=num1/num2\n",
        "    print(f\"{num1} / {num2}={result}\")\n",
        "  else:\n",
        "    print(\"invalid operator\")\n",
        "  choice=input(\"Type y to continue n to start new operation or q to quit\").lower()\n",
        "  if choice=='y':\n",
        "    num1=result\n",
        "    op=input(\"+ \\n - \\n *\\n / \\n Pick the operation\")\n",
        "    num2=int(input(\"What is the second number?\"))\n",
        "  elif choice=='n':\n",
        "    num1=int(input(\"What is you first number?\"))\n",
        "    op=input(\"+ \\n - \\n *\\n / \\n Pick the operation\")\n",
        "    num2=int(input(\"What is the second number?\"))\n",
        "  else:\n",
        "    print(\"Goodbye\")\n",
        "    cont=False"
      ]
    }
  ]
}