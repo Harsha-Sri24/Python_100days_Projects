{
  "nbformat": 4,
  "nbformat_minor": 0,
  "metadata": {
    "colab": {
      "provenance": []
    },
    "kernelspec": {
      "name": "python3",
      "display_name": "Python 3"
    },
    "language_info": {
      "name": "python"
    }
  },
  "cells": [
    {
      "cell_type": "code",
      "execution_count": 7,
      "metadata": {
        "id": "H5sIytbND1xz",
        "colab": {
          "base_uri": "https://localhost:8080/"
        },
        "outputId": "f5c977b2-c855-4927-c144-a4fcc9d8afcd"
      },
      "outputs": [
        {
          "output_type": "stream",
          "name": "stdout",
          "text": [
            "how many letters would you like have in the password??2\n",
            "how many numbers would you like have in the password??3\n",
            "how many symbols would you like have in the password??3\n",
            "['y', 'L', '4', '8', '1', ')', '!', '+']\n",
            "['+', 'y', '1', '!', ')', '4', 'L', '8']\n",
            "your password is  +y1!)4L8\n"
          ]
        }
      ],
      "source": [
        "import random\n",
        "letters = ['a', 'b', 'c', 'd', 'e', 'f', 'g', 'h', 'i', 'j', 'k', 'l', 'm', 'n', 'o', 'p', 'q', 'r', 's', 't', 'u', 'v', 'w', 'x', 'y', 'z', 'A', 'B', 'C', 'D', 'E', 'F', 'G', 'H', 'I', 'J', 'K', 'L', 'M', 'N', 'O', 'P', 'Q', 'R', 'S', 'T', 'U', 'V', 'W', 'X', 'Y', 'Z']\n",
        "numbers = ['0', '1', '2', '3', '4', '5', '6', '7', '8', '9']\n",
        "symbols = ['!', '#', '$', '%', '&', '(', ')', '*', '+']\n",
        "\n",
        "letters_count=int(input(\"how many letters would you like have in the password??\"))\n",
        "numbers_count=int(input(\"how many numbers would you like have in the password??\"))\n",
        "symbols_count=int(input(\"how many symbols would you like have in the password??\"))\n",
        "\n",
        "total=letters_count+numbers_count+symbols_count\n",
        "list=[]\n",
        "for i in range(letters_count):\n",
        "    list.append(random.choice(letters))\n",
        "    i+=1\n",
        "for i in range(numbers_count):\n",
        "    list.append(random.choice(numbers))\n",
        "    i+=1\n",
        "for i in range(symbols_count):\n",
        "    list.append(random.choice(symbols))\n",
        "    i+=1\n",
        "print(list)\n",
        "random.shuffle(list)\n",
        "print(list)\n",
        "password=\"\"\n",
        "for i in range(len(list)):\n",
        "  password+=list[i]\n",
        "  i+=1\n",
        "print(\"your password is \",password)\n",
        "\n"
      ]
    }
  ]
}