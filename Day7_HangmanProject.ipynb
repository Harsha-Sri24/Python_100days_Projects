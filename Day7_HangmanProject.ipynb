{
  "nbformat": 4,
  "nbformat_minor": 0,
  "metadata": {
    "colab": {
      "provenance": []
    },
    "kernelspec": {
      "name": "python3",
      "display_name": "Python 3"
    },
    "language_info": {
      "name": "python"
    }
  },
  "cells": [
    {
      "cell_type": "code",
      "execution_count": 47,
      "metadata": {
        "colab": {
          "base_uri": "https://localhost:8080/"
        },
        "id": "gJOjUsfNWT7V",
        "outputId": "ea264408-f42c-46d5-bfab-6f5a56dfd8b4"
      },
      "outputs": [
        {
          "output_type": "stream",
          "name": "stdout",
          "text": [
            "the word that need to be guessed has 5 letters\n",
            "_____\n",
            "Guess the word:c\n",
            "c____\n",
            "Guess the word:c\n",
            "Already guessedc...6/6 lives left\n",
            "c____\n",
            "Guess the word:l\n",
            "c___l\n",
            "Guess the word:s\n",
            "c___l\n",
            "s is not in the word... 5/6 lives left\n",
            "Guess the word:w\n",
            "c___l\n",
            "w is not in the word... 4/6 lives left\n",
            "Guess the word:m\n",
            "c_m_l\n",
            "Guess the word:e\n",
            "c_mel\n",
            "Guess the word:a\n",
            "camel\n",
            "you win\n"
          ]
        }
      ],
      "source": [
        "import random\n",
        "\n",
        "life=6\n",
        "letters=letters = ['a', 'b', 'c', 'd', 'e', 'f', 'g', 'h', 'i', 'j', 'k', 'l', 'm', 'n', 'o', 'p', 'q', 'r', 's', 't', 'u', 'v', 'w', 'x', 'y', 'z', 'A', 'B', 'C', 'D', 'E', 'F', 'G', 'H', 'I', 'J', 'K', 'L', 'M', 'N', 'O', 'P', 'Q', 'R', 'S', 'T', 'U', 'V', 'W', 'X', 'Y', 'Z']\n",
        "word_list=[\"aardvark\",\"baboon\",\"camel\"]\n",
        "word=random.choice(word_list)\n",
        "word_length=len(word)\n",
        "placeholder=\"\"\n",
        "for i in range(word_length):\n",
        "  placeholder+=\"_\"\n",
        "  i+=1\n",
        "game_over=False\n",
        "correct_letters=[]\n",
        "print(f\"the word that need to be guessed has {word_length} letters\\n{placeholder}\")\n",
        "while not game_over:\n",
        "  guess=input(\"Guess the word:\")\n",
        "  if guess in correct_letters:\n",
        "    print(f\"Already guessed{guess}...{life}/6 lives left\")\n",
        "  display=\"\"\n",
        "  for letter in word:\n",
        "    if letter == guess:\n",
        "      display+=letter\n",
        "      correct_letters.append(guess)\n",
        "    elif letter in correct_letters:\n",
        "      display+=letter\n",
        "    else:\n",
        "      display+=\"_\"\n",
        "  print(display)\n",
        "  if guess not in word:\n",
        "    life-=1\n",
        "    print(f\"{guess} is not in the word... {life}/6 lives left\")\n",
        "    if life==0:\n",
        "      game_over=True\n",
        "      print(\"You lose\")\n",
        "  if \"_\"not in display:\n",
        "    game_over=True\n",
        "    print(\"you win\")\n",
        "\n",
        "\n"
      ]
    }
  ]
}