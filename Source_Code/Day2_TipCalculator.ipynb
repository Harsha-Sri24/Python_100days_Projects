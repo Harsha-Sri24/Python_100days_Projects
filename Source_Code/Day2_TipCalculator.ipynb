{
  "nbformat": 4,
  "nbformat_minor": 0,
  "metadata": {
    "colab": {
      "provenance": []
    },
    "kernelspec": {
      "name": "python3",
      "display_name": "Python 3"
    },
    "language_info": {
      "name": "python"
    }
  },
  "cells": [
    {
      "cell_type": "code",
      "execution_count": 4,
      "metadata": {
        "colab": {
          "base_uri": "https://localhost:8080/"
        },
        "id": "hYsFI3b7SKil",
        "outputId": "6a0fac8d-4ae6-452f-94a4-3663c9326f65"
      },
      "outputs": [
        {
          "output_type": "stream",
          "name": "stdout",
          "text": [
            "Welcome to the Tip Calculator\n",
            "What was the total bill?122\n",
            "How much percentage of tip would you like to give? 10, 12, or 1512\n",
            "How many people to split the bill?4\n",
            "Each person should pay: $34.16\n"
          ]
        }
      ],
      "source": [
        "print(\"Welcome to the Tip Calculator\")\n",
        "bill=int(input(\"What was the total bill?\"))\n",
        "tip= int(input(\"How much percentage of tip would you like to give? 10, 12, or 15\"))\n",
        "count=int(input(\"How many people to split the bill?\"))\n",
        "\n",
        "each_pay=(bill+(bill*(tip/100)))/count\n",
        "\n",
        "print(f\"Each person should pay: ${each_pay}\")"
      ]
    }
  ]
}