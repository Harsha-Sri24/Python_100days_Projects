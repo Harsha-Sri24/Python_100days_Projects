{
  "nbformat": 4,
  "nbformat_minor": 0,
  "metadata": {
    "colab": {
      "provenance": []
    },
    "kernelspec": {
      "name": "python3",
      "display_name": "Python 3"
    },
    "language_info": {
      "name": "python"
    }
  },
  "cells": [
    {
      "cell_type": "code",
      "execution_count": 1,
      "metadata": {
        "colab": {
          "base_uri": "https://localhost:8080/"
        },
        "id": "NG2ljmQLvCpE",
        "outputId": "2e747733-325d-49a1-c4ca-1b11d006c670"
      },
      "outputs": [
        {
          "output_type": "stream",
          "name": "stdout",
          "text": [
            " _ \\_   _  ___  ___ ___  /__   \\ |__   ___    /\\ \\ \\_   _ _ __ ___ | |__   ___ _ __ \n",
            " / /_\\/ | | |/ _ \\/ __/ __|   / /\\/ '_ \\ / _ \\  /  \\/ / | | | '_ ' _ \\| '_ \\ / _ \\ '__|\n",
            "/ /_\\| |_| |  __/\\__ \\__ \\  / /  | | | |  __/ / /\\  /| |_| | | | | | | |_) |  __/ |   \n",
            "\\____/ \\__,_|\\___||___/___/  \\/   |_| |_|\\___| \\_\\ \\/  \\__,_|_| |_| |_|_.__/ \\___|_|      \n",
            "Welcome to Number Guessing Game \n",
            " I'm thinking of a number b/w 1 to 100\n",
            "choose difficulty:Easy or hardeasy\n",
            "you have 10 attempts to guess\n",
            "Make a guess:25\n",
            "Too low\n",
            "you have 9 attempts to guess\n",
            "Make a guess:50\n",
            "Too low\n",
            "you have 8 attempts to guess\n",
            "Make a guess:70\n",
            "Too low\n",
            "you have 7 attempts to guess\n",
            "Make a guess:80\n",
            "Too low\n",
            "you have 6 attempts to guess\n",
            "Make a guess:95\n",
            "Too high\n",
            "you have 5 attempts to guess\n",
            "Make a guess:90\n",
            "Too low\n",
            "you have 4 attempts to guess\n",
            "Make a guess:94\n",
            "Too high\n",
            "you have 3 attempts to guess\n",
            "Make a guess:92\n",
            "Too high\n",
            "you have 2 attempts to guess\n",
            "Make a guess:91\n",
            "You win!!! you guessed the number correctly\n"
          ]
        }
      ],
      "source": [
        "import random\n",
        "print(\"\"\" _ \\_   _  ___  ___ ___  /__   \\ |__   ___    /\\ \\ \\_   _ _ __ ___ | |__   ___ _ __\n",
        " / /_\\/ | | |/ _ \\/ __/ __|   / /\\/ '_ \\ / _ \\  /  \\/ / | | | '_ ' _ \\| '_ \\ / _ \\ '__|\n",
        "/ /_\\\\| |_| |  __/\\__ \\__ \\  / /  | | | |  __/ / /\\  /| |_| | | | | | | |_) |  __/ |\n",
        "\\____/ \\__,_|\\___||___/___/  \\/   |_| |_|\\___| \\_\\ \\/  \\__,_|_| |_| |_|_.__/ \\___|_|      \"\"\")\n",
        "\n",
        "print(\"Welcome to Number Guessing Game \\n I'm thinking of a number b/w 1 to 100\")\n",
        "level=input(\"choose difficulty:Easy or hard\").lower()\n",
        "count=0\n",
        "number=random.randint(0,101)\n",
        "if level=='easy':\n",
        "  count=10\n",
        "elif level=='hard':\n",
        "  count=5\n",
        "attempts=count\n",
        "while attempts > 0:\n",
        "  if attempts==0:\n",
        "    print(f\"You lose!!! you are out of attempts and the number is {number}\")\n",
        "  else:\n",
        "    print(f\"you have {attempts} attempts to guess\")\n",
        "    guess=int(input(\"Make a guess:\"))\n",
        "    if guess==number:\n",
        "      print(\"You win!!! you guessed the number correctly\")\n",
        "      attempts=0\n",
        "    elif guess>number:\n",
        "      print(\"Too high\")\n",
        "      attempts-=1\n",
        "    else:\n",
        "      print(\"Too low\")\n",
        "      attempts-=1\n",
        ""
      ]
    }
  ]
}