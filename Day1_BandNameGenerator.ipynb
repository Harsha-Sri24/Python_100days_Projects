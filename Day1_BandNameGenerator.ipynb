{
  "nbformat": 4,
  "nbformat_minor": 0,
  "metadata": {
    "colab": {
      "provenance": []
    },
    "kernelspec": {
      "name": "python3",
      "display_name": "Python 3"
    },
    "language_info": {
      "name": "python"
    }
  },
  "cells": [
    {
      "cell_type": "code",
      "execution_count": 1,
      "metadata": {
        "colab": {
          "base_uri": "https://localhost:8080/"
        },
        "id": "UWDTO2LEVAED",
        "outputId": "30d29f24-6d6b-4b22-8b0f-dc4cbc93babf"
      },
      "outputs": [
        {
          "output_type": "stream",
          "name": "stdout",
          "text": [
            "Welcome to Band Name Generator \n",
            "Enter the City Name you grew up: Texas\n",
            "What's your pet name? : Max\n",
            "Your band name is Texas Max\n"
          ]
        }
      ],
      "source": [
        "print(\"Welcome to Band Name Generator \")\n",
        "City=input(\"Enter the City Name you grew up: \")\n",
        "Pet_name=input(\"What's your pet name? : \")\n",
        "name=City+\" \"+Pet_name\n",
        "print(\"Your band name is \"+ name)\n"
      ]
    }
  ]
}